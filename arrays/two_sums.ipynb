{
  "nbformat": 4,
  "nbformat_minor": 0,
  "metadata": {
    "colab": {
      "name": "two_sums.ipynb",
      "provenance": [],
      "collapsed_sections": [],
      "authorship_tag": "ABX9TyMB+D+nMFTuIYqQBraj5e0s",
      "include_colab_link": true
    },
    "kernelspec": {
      "name": "python3",
      "display_name": "Python 3"
    }
  },
  "cells": [
    {
      "cell_type": "markdown",
      "metadata": {
        "id": "view-in-github",
        "colab_type": "text"
      },
      "source": [
        "<a href=\"https://colab.research.google.com/github/shaunhyp57/data-structures-and-algorithms/blob/master/arrays/two_sums.ipynb\" target=\"_parent\"><img src=\"https://colab.research.google.com/assets/colab-badge.svg\" alt=\"Open In Colab\"/></a>"
      ]
    },
    {
      "cell_type": "markdown",
      "metadata": {
        "id": "RJEOJ8jxu8aP",
        "colab_type": "text"
      },
      "source": [
        "## **Two Sums** - LeetCode\n",
        "Given an array of integers, return indices of the two numbers such that they add up to a specific target.\n",
        "\n",
        "You may assume that each input would have exactly one solution, and you may not use the same element twice.\n",
        "\n",
        "#### **Example:**\n",
        "\n",
        "Given nums = [2, 7, 11, 15], target = 9,\n",
        "\n",
        "Because nums[0] + nums[1] = 2 + 7 = 9,\n",
        "return [0, 1]."
      ]
    },
    {
      "cell_type": "markdown",
      "metadata": {
        "id": "h40ujy2d2kBG",
        "colab_type": "text"
      },
      "source": [
        "Solutions:\n",
        "\n",
        "$O{(n)}^2$ solution using nested loops:"
      ]
    },
    {
      "cell_type": "code",
      "metadata": {
        "id": "A7fViAzwt7uL",
        "colab_type": "code",
        "colab": {}
      },
      "source": [
        "def two_sums_naive(arr, n):\n",
        "  i = 0\n",
        "  j = 0\n",
        "\n",
        "  len_arr = len(arr)\n",
        "  while i < len_arr:\n",
        "    j = i+1\n",
        "    while j < len_arr:\n",
        "      if (n - arr[i] == arr[j]):\n",
        "        return [i, j]\n",
        "      j += 1\n",
        "    i += 1\n",
        "  print(\"not found\")"
      ],
      "execution_count": 0,
      "outputs": []
    },
    {
      "cell_type": "code",
      "metadata": {
        "id": "h0ECs-8ZwAXn",
        "colab_type": "code",
        "colab": {
          "base_uri": "https://localhost:8080/",
          "height": 34
        },
        "outputId": "c8209a24-1a1c-424b-bd80-0c13aef986bd"
      },
      "source": [
        "arr = [2, 7, 11, 15]\n",
        "n = 9\n",
        "two_sums_naive(arr, n)"
      ],
      "execution_count": 23,
      "outputs": [
        {
          "output_type": "execute_result",
          "data": {
            "text/plain": [
              "[0, 1]"
            ]
          },
          "metadata": {
            "tags": []
          },
          "execution_count": 23
        }
      ]
    },
    {
      "cell_type": "markdown",
      "metadata": {
        "id": "Z6Et3gV03mlx",
        "colab_type": "text"
      },
      "source": [
        "$O(n)$ solution using dictionary:"
      ]
    },
    {
      "cell_type": "code",
      "metadata": {
        "id": "vCiLO9yUxR2T",
        "colab_type": "code",
        "colab": {}
      },
      "source": [
        "# O(n) solution using dictionaries\n",
        "def two_sums(arr, n):\n",
        "  pair_n = {}\n",
        "\n",
        "  for index, num in enumerate(arr):\n",
        "    if n-num in pair_n:\n",
        "      return [pair_n.get(n-num), index]\n",
        "    else:\n",
        "      pair_n[num] = index\n",
        "  print(\"not found\")"
      ],
      "execution_count": 0,
      "outputs": []
    },
    {
      "cell_type": "code",
      "metadata": {
        "id": "2XPgMs5exUl8",
        "colab_type": "code",
        "colab": {
          "base_uri": "https://localhost:8080/",
          "height": 34
        },
        "outputId": "bc847943-b8fb-4984-e51c-5ce963e94eee"
      },
      "source": [
        "two_sums(arr, n)"
      ],
      "execution_count": 25,
      "outputs": [
        {
          "output_type": "execute_result",
          "data": {
            "text/plain": [
              "[0, 1]"
            ]
          },
          "metadata": {
            "tags": []
          },
          "execution_count": 25
        }
      ]
    }
  ]
}