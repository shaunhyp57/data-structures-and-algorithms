{
  "nbformat": 4,
  "nbformat_minor": 0,
  "metadata": {
    "colab": {
      "name": "linked_list.ipynb",
      "provenance": [],
      "collapsed_sections": [],
      "authorship_tag": "ABX9TyPmVN1HBsP49DS8t6WOvuio",
      "include_colab_link": true
    },
    "kernelspec": {
      "name": "python3",
      "display_name": "Python 3"
    }
  },
  "cells": [
    {
      "cell_type": "markdown",
      "metadata": {
        "id": "view-in-github",
        "colab_type": "text"
      },
      "source": [
        "<a href=\"https://colab.research.google.com/github/shaunhyp57/data-structures-and-algorithms/blob/master/linked%20list/linked_list.ipynb\" target=\"_parent\"><img src=\"https://colab.research.google.com/assets/colab-badge.svg\" alt=\"Open In Colab\"/></a>"
      ]
    },
    {
      "cell_type": "markdown",
      "metadata": {
        "id": "T_lxjfPYACYL",
        "colab_type": "text"
      },
      "source": [
        "Node class for each data in the linked list:"
      ]
    },
    {
      "cell_type": "code",
      "metadata": {
        "id": "sBHqvO7a_5N3",
        "colab_type": "code",
        "colab": {}
      },
      "source": [
        "class node:\n",
        "  def __init__(self, data = None):\n",
        "    self.data = data\n",
        "    self.next = None"
      ],
      "execution_count": 0,
      "outputs": []
    },
    {
      "cell_type": "markdown",
      "metadata": {
        "id": "IMtNJ76xA89N",
        "colab_type": "text"
      },
      "source": [
        "Linked list class. Contains the following functions:\n",
        "* append - add to end of list\n",
        "* prepend - add to beginning of linked list\n",
        "* delete - delete node from linked list\n"
      ]
    },
    {
      "cell_type": "code",
      "metadata": {
        "id": "7-XwPAmP_1Fk",
        "colab_type": "code",
        "colab": {}
      },
      "source": [
        "class linked_list:\n",
        "  def __init__(self):\n",
        "    self.head = node()\n",
        "\n",
        "  def append(self, data):\n",
        "    new_node = node(data)\n",
        "    curr = self.head\n",
        "    while curr.next != None:\n",
        "      curr = curr.next\n",
        "    curr.next = new_node\n",
        "\n",
        "  def prepend(self, data):\n",
        "    new_node = node(data)\n",
        "    curr = self.head\n",
        "    self.head = new_node\n",
        "    self.head.next = curr\n",
        "\n",
        "  def delete(self, data):\n",
        "    curr = self.head\n",
        "    prev = None\n",
        "    while curr:\n",
        "      if curr.data == data:\n",
        "        prev = curr.next\n",
        "        return\n",
        "      prev = curr\n",
        "      curr = curr.next"
      ],
      "execution_count": 0,
      "outputs": []
    },
    {
      "cell_type": "markdown",
      "metadata": {
        "id": "Rb0Kc5IgAn2i",
        "colab_type": "text"
      },
      "source": [
        "**Bonus**: Reverse Linked List"
      ]
    },
    {
      "cell_type": "code",
      "metadata": {
        "id": "FW1JaqnDAmF1",
        "colab_type": "code",
        "colab": {}
      },
      "source": [
        "  def reverse(self, head):\n",
        "      prev = None\n",
        "      while head:\n",
        "        curr = head\n",
        "        head = head.next\n",
        "        curr.next = prev\n",
        "        prev = curr\n",
        "      return prev"
      ],
      "execution_count": 0,
      "outputs": []
    }
  ]
}